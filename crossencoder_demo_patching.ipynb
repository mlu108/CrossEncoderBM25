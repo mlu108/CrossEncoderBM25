{
 "cells": [
  {
   "cell_type": "code",
   "execution_count": 1,
   "metadata": {},
   "outputs": [],
   "source": [
    "from transformer_lens.hook_points import HookedRootModule, HookPoint"
   ]
  },
  {
   "cell_type": "code",
   "execution_count": 2,
   "metadata": {},
   "outputs": [],
   "source": [
    "import torch\n",
    "from transformers import AutoTokenizer, AutoModel\n",
    "import TransformerLens.transformer_lens.utils as utils\n",
    "import numpy as np\n",
    "from sentence_transformers import CrossEncoder\n",
    "from TransformerLens.transformer_lens import HookedEncoder\n",
    "from patching_helpers import (\n",
    "    get_act_patch_block_every,\n",
    "    get_act_patch_attn_head_out_all_pos,\n",
    "    get_act_patch_attn_head_by_pos,\n",
    "    get_path_patch_head_to_final_resid_post,\n",
    "    get_path_patch_head_to_heads\n",
    ")\n",
    "\n",
    "def load_tokenizer_and_models(hf_model_name, device):\n",
    "    cross_encoder_model = CrossEncoder(hf_model_name).model\n",
    "    tokenizer = AutoTokenizer.from_pretrained(hf_model_name)\n",
    "    hf_model = AutoModel.from_pretrained(hf_model_name)\n",
    "    hf_model.to(device)\n",
    "    pooler_layer = hf_model.pooler.to(device)\n",
    "    dropout_layer = cross_encoder_model.dropout.to(device)\n",
    "    classifier_layer = cross_encoder_model.classifier.to(device)\n",
    "    tl_model = HookedEncoder.from_pretrained(hf_model_name, device=device, hf_model=hf_model)\n",
    "    return tokenizer, tl_model, pooler_layer,dropout_layer,classifier_layer\n"
   ]
  },
  {
   "cell_type": "code",
   "execution_count": 3,
   "metadata": {},
   "outputs": [
    {
     "name": "stdout",
     "output_type": "stream",
     "text": [
      "mps.is_available()\n"
     ]
    },
    {
     "name": "stderr",
     "output_type": "stream",
     "text": [
      "/Users/meng.lu/miniforge3/envs/tensor_env/lib/python3.10/site-packages/huggingface_hub/file_download.py:1142: FutureWarning: `resume_download` is deprecated and will be removed in version 1.0.0. Downloads always resume when possible. If you want to force a new download, use `force_download=True`.\n",
      "  warnings.warn(\n",
      "WARNING:root:Support for BERT in TransformerLens is currently experimental, until such a time when it has feature parity with HookedTransformer and has been tested on real research tasks. Until then, backward compatibility is not guaranteed. Please see the docs for information on the limitations of the current implementation.\n",
      "If using BERT for interpretability research, keep in mind that BERT has some significant architectural differences to GPT. For example, LayerNorms are applied *after* the attention and MLP components, meaning that the last LayerNorm in a block cannot be folded.\n"
     ]
    },
    {
     "name": "stdout",
     "output_type": "stream",
     "text": [
      "will start convert_hf_model_config\n",
      "Moving model to device:  mps\n",
      "Loaded pretrained model cross-encoder/ms-marco-MiniLM-L-12-v2 into HookedEncoder\n"
     ]
    }
   ],
   "source": [
    "torch.set_grad_enabled(False)\n",
    "device = utils.get_device()\n",
    "\n",
    "# Load and initialize models\n",
    "pre_trained_model_name = \"cross-encoder/ms-marco-MiniLM-L-12-v2\" #\"sebastian-hofstaetter/distilbert-dot-tas_b-b256-msmarco\"\n",
    "tokenizer, tl_model, pooler_layer,dropout_layer,classifier_layer = load_tokenizer_and_models(pre_trained_model_name, device)"
   ]
  },
  {
   "cell_type": "code",
   "execution_count": 4,
   "metadata": {},
   "outputs": [
    {
     "name": "stdout",
     "output_type": "stream",
     "text": [
      "{'input_ids': tensor([[  101,  2054,  2003,  1996,  9920,  3446,  2012, 25658,   102,  2267,\n",
      "          9920,  6165,  1999,  1996,  3915,  2024,  3352,  2062,  6975,  1012,\n",
      "           102]]), 'token_type_ids': tensor([[0, 0, 0, 0, 0, 0, 0, 0, 0, 1, 1, 1, 1, 1, 1, 1, 1, 1, 1, 1, 1]]), 'attention_mask': tensor([[1, 1, 1, 1, 1, 1, 1, 1, 1, 1, 1, 1, 1, 1, 1, 1, 1, 1, 1, 1, 1]])}\n",
      "{'input_ids': tensor([[  101,  2054,  2003,  1996,  9920,  3446,  2012, 25658,   102,  2267,\n",
      "          9920,  6165,  1999,  1996,  3915,  2024,  3352,  2062,  6975,  1012,\n",
      "         25658,   102]]), 'token_type_ids': tensor([[0, 0, 0, 0, 0, 0, 0, 0, 0, 1, 1, 1, 1, 1, 1, 1, 1, 1, 1, 1, 1, 1]]), 'attention_mask': tensor([[1, 1, 1, 1, 1, 1, 1, 1, 1, 1, 1, 1, 1, 1, 1, 1, 1, 1, 1, 1, 1, 1]])}\n",
      "cls_tok: 101\n",
      "sep_tok: 102\n",
      "b_len != p_len\n",
      "tokenized_pair_baseline: {'input_ids': tensor([[  101,  2054,  2003,  1996,  9920,  3446,  2012, 25658,   102,  2267,\n",
      "          9920,  6165,  1999,  1996,  3915,  2024,  3352,  2062,  6975,  1012,\n",
      "          1037,   102]]), 'token_type_ids': tensor([[0, 0, 0, 0, 0, 0, 0, 0, 0, 1, 1, 1, 1, 1, 1, 1, 1, 1, 1, 1, 1, 1]]), 'attention_mask': tensor([[1, 1, 1, 1, 1, 1, 1, 1, 1, 1, 1, 1, 1, 1, 1, 1, 1, 1, 1, 1, 1, 1]])}\n",
      "tokenized_pair_perturbed: {'input_ids': tensor([[  101,  2054,  2003,  1996,  9920,  3446,  2012, 25658,   102,  2267,\n",
      "          9920,  6165,  1999,  1996,  3915,  2024,  3352,  2062,  6975,  1012,\n",
      "         25658,   102]]), 'token_type_ids': tensor([[0, 0, 0, 0, 0, 0, 0, 0, 0, 1, 1, 1, 1, 1, 1, 1, 1, 1, 1, 1, 1, 1]]), 'attention_mask': tensor([[1, 1, 1, 1, 1, 1, 1, 1, 1, 1, 1, 1, 1, 1, 1, 1, 1, 1, 1, 1, 1, 1]])}\n"
     ]
    }
   ],
   "source": [
    "\n",
    "# Minimal usage example \n",
    "query = \"what is the acceptance rate at wellesley\"\n",
    "original_doc = \"College acceptance rates in the USA are becoming more competitive.\"\n",
    "perturbed_doc = original_doc + \" \" + \"wellesley\"\n",
    "\n",
    "# Tokenize query and documents, adjusting for mismatched lengths if necessary\n",
    "tokenized_pair_baseline = tokenizer([query],[original_doc], return_tensors=\"pt\",padding=True,truncation=True)\n",
    "tokenized_pair_perturbed = tokenizer([query],[perturbed_doc], return_tensors=\"pt\",padding=True, truncation=True)\n",
    "print(tokenized_pair_baseline)\n",
    "print(tokenized_pair_perturbed)\n",
    "\n",
    "cls_tok = tokenized_pair_baseline[\"input_ids\"][0][0]\n",
    "sep_tok = tokenized_pair_baseline[\"input_ids\"][0][-1]\n",
    "print(f\"cls_tok: {cls_tok}\")\n",
    "print(f\"sep_tok: {sep_tok}\")\n",
    "\n",
    "filler_token = tokenizer.encode(\"a\", add_special_tokens=False)[0]\n",
    "b_len = torch.sum(tokenized_pair_baseline[\"attention_mask\"]).item()\n",
    "p_len = torch.sum(tokenized_pair_perturbed[\"attention_mask\"]).item()\n",
    "\n",
    "if b_len != p_len: #TODO: need to edit\n",
    "    print(\"b_len != p_len\")\n",
    "    adj_n = p_len - b_len\n",
    "    filler_tokens = torch.full((adj_n,), filler_token)\n",
    "    filler_attn_mask = torch.full((adj_n,), tokenized_pair_baseline[\"attention_mask\"][0][1]) \n",
    "    filler_token_id_mask = torch.full((adj_n,), tokenized_pair_baseline[\"token_type_ids\"][0][-1]) #just filling in the document\n",
    "    adj_doc = torch.cat((tokenized_pair_baseline[\"input_ids\"][0][1:-1], filler_tokens))\n",
    "    tokenized_pair_baseline[\"input_ids\"] = torch.cat((cls_tok.view(1), adj_doc, sep_tok.view(1)), dim=0).view(1,-1)\n",
    "    tokenized_pair_baseline[\"attention_mask\"] = torch.cat((tokenized_pair_baseline[\"attention_mask\"][0], filler_attn_mask), dim=0).view(1,-1)\n",
    "    tokenized_pair_baseline[\"token_type_ids\"] = torch.cat((tokenized_pair_baseline[\"token_type_ids\"][0], filler_token_id_mask), dim=0).view(1,-1)\n",
    "\n",
    "    #inputs <cls> query <sep> document <sep>\n",
    "    #if edited in this block, print out the renewed ones:\n",
    "    print(f\"tokenized_pair_baseline: {tokenized_pair_baseline}\")\n",
    "    print(f\"tokenized_pair_perturbed: {tokenized_pair_perturbed}\")\n"
   ]
  },
  {
   "cell_type": "code",
   "execution_count": null,
   "metadata": {},
   "outputs": [
    {
     "name": "stdout",
     "output_type": "stream",
     "text": [
      "torch.Size([1, 22, 384])\n",
      "tensor([[-5.6513]], device='mps:0') tensor([[4.3892]], device='mps:0')\n"
     ]
    }
   ],
   "source": [
    "import matplotlib.pyplot as plt\n",
    "import seaborn as sns\n",
    "import numpy as np\n",
    "# Plotting Functions\n",
    "def plot_heatmap_block(data, labels):\n",
    "    print(data.shape) #(3, 12, 22) #12 layers, 22 labels\n",
    "    blocks = [\"resid_pre\", \"attn_out\", \"mlp_out\"]\n",
    "    for i in range(3):\n",
    "        title = blocks[i]\n",
    "        plot_data = data[i,:,:].squeeze() #(12,22)\n",
    "        plot_data = np.flipud(plot_data)\n",
    "        plt.figure(figsize=(12, 6))\n",
    "        sns.heatmap(plot_data, xticklabels=labels, yticklabels=range(11,-1,-1), cmap='viridis', cbar=True,vmin=0.0, vmax=1.0)\n",
    "        #!!!FILP yticklabels and FLIP the data on y axis\n",
    "        plt.title(title)\n",
    "        plt.xlabel('posn')\n",
    "        plt.ylabel('Layers')\n",
    "        plt.show()\n",
    "def plot_heatmap_attention(data, labels):\n",
    "    print(data.shape) #(12,12) layer head\n",
    "    data = np.flipud(data)\n",
    "    plt.figure(figsize=(8, 6))\n",
    "    sns.heatmap(data, xticklabels=range(0,12), yticklabels=range(11,-1,-1), cmap='viridis', cbar=True)\n",
    "    #!!!FILP yticklabels and FLIP the data on y axis\n",
    "    plt.title(\"Attention\")\n",
    "    plt.xlabel('head')\n",
    "    plt.ylabel('layer')\n",
    "    plt.show()\n",
    "\n",
    "def plot_heatmap_head_pos(data, labels,layer_head_list):\n",
    "    print(data.shape)  # (2, 2, 34) # z&pattern, len(head_list), posn\n",
    "    for i in range(len(layer_head_list)):  # Assuming there are two heads\n",
    "        title = layer_head_list[i]\n",
    "        z_data = np.expand_dims(data[0, i, :], axis=1).T  # Expand dimensions to (34, 1)\n",
    "        pattern_data = np.expand_dims(data[1, i, :], axis=1).T\n",
    "\n",
    "        print(z_data.shape)  # Debugging shape of data\n",
    "\n",
    "        # Plotting z data\n",
    "        plt.figure(figsize=(12, 1))\n",
    "        sns.heatmap(z_data, xticklabels=labels, cmap='viridis', cbar=True,vmin=0.0, vmax=1.0)\n",
    "        plt.title(f\"Z for head {title}\")\n",
    "        plt.xlabel('Posn')\n",
    "     \n",
    "        plt.show()\n",
    "\n",
    "        # Plotting pattern data\n",
    "        plt.figure(figsize=(12, 1))\n",
    "        sns.heatmap(pattern_data, xticklabels=labels, cmap='viridis', cbar=True)\n",
    "        plt.title(f\"Pattern for Head {title}\")\n",
    "        plt.xlabel('Posn')\n",
    "       \n",
    "        plt.show()\n",
    "\n",
    "baseline_outputs,baseline_cache = tl_model.run_with_cache(\n",
    "    tokenized_pair_baseline[\"input_ids\"],\n",
    "    return_type=\"embeddings\", #\"embedding\"\n",
    "    one_zero_attention_mask=tokenized_pair_baseline[\"attention_mask\"],\n",
    "    token_type_ids = tokenized_pair_baseline['token_type_ids'] #added this for cross-encoders, need token_type_ids\n",
    ")\n",
    "perturbed_outputs,perturbed_cache = tl_model.run_with_cache(\n",
    "    tokenized_pair_perturbed[\"input_ids\"],\n",
    "    return_type=\"embeddings\", #embedding\n",
    "    one_zero_attention_mask=tokenized_pair_perturbed[\"attention_mask\"],\n",
    "    token_type_ids = tokenized_pair_perturbed['token_type_ids']\n",
    ")\n",
    "baseline_score =classifier_layer(dropout_layer(pooler_layer(baseline_outputs)))\n",
    "perturbed_score = classifier_layer(dropout_layer(pooler_layer(perturbed_outputs)))\n",
    "print(baseline_outputs.shape)\n",
    "#pooler_layer,dropout_layer,classifier_layer\n",
    "print(baseline_score,perturbed_score)\n",
    "\n",
    "def ranking_metric(patched_doc_embedding, pooler_layer,dropout_layer,classifier_layer,og_score=baseline_score, p_score=perturbed_score,):\n",
    "    patched_score = classifier_layer(dropout_layer(pooler_layer(patched_doc_embedding)))\n",
    "    return (patched_score - og_score) / (p_score - og_score)\n",
    "     "
   ]
  },
  {
   "cell_type": "code",
   "execution_count": 17,
   "metadata": {},
   "outputs": [
    {
     "name": "stdout",
     "output_type": "stream",
     "text": [
      "Patching: resid_pre\n"
     ]
    },
    {
     "name": "stderr",
     "output_type": "stream",
     "text": [
      "100%|██████████| 12/12 [00:49<00:00,  4.12s/it]\n"
     ]
    },
    {
     "name": "stdout",
     "output_type": "stream",
     "text": [
      "Patching: attn_out\n"
     ]
    },
    {
     "name": "stderr",
     "output_type": "stream",
     "text": [
      "100%|██████████| 12/12 [00:48<00:00,  4.07s/it]\n"
     ]
    },
    {
     "name": "stdout",
     "output_type": "stream",
     "text": [
      "Patching: mlp_out\n"
     ]
    },
    {
     "name": "stderr",
     "output_type": "stream",
     "text": [
      "100%|██████████| 12/12 [00:48<00:00,  4.06s/it]"
     ]
    },
    {
     "name": "stdout",
     "output_type": "stream",
     "text": [
      "(3, 12, 22)\n"
     ]
    },
    {
     "name": "stderr",
     "output_type": "stream",
     "text": [
      "\n"
     ]
    },
    {
     "data": {
      "image/png": "[encoded data removed]",
      "text/plain": [
       "<Figure size 1200x600 with 2 Axes>"
      ]
     },
     "metadata": {},
     "output_type": "display_data"
    },
    {
     "data": {
      "image/png": "[encoded data removed]",
      "text/plain": [
       "<Figure size 1200x600 with 2 Axes>"
      ]
     },
     "metadata": {},
     "output_type": "display_data"
    },
    {
     "data": {
      "image/png": "[encoded data removed]",
      "text/plain": [
       "<Figure size 1200x600 with 2 Axes>"
      ]
     },
     "metadata": {},
     "output_type": "display_data"
    }
   ],
   "source": [
    "       \n",
    "# Activation patching - by block over all token positions (e.g., input to residual stream, activation block output, MLP output)\n",
    "\n",
    "tokens = [tokenizer.decode(tok) for tok in tokenized_pair_perturbed[\"input_ids\"][0]]\n",
    "labels = [f\"{tok} {i}\" for i, tok in enumerate(tokens)]\n",
    "act_patch_block_every = get_act_patch_block_every(\n",
    "    tl_model,\n",
    "    device,\n",
    "    tokenized_pair_baseline,\n",
    "    perturbed_cache,\n",
    "    ranking_metric,\n",
    "    pooler_layer,\n",
    "    dropout_layer,\n",
    "    classifier_layer\n",
    ")\n",
    "detached_block_results = act_patch_block_every.detach().cpu().numpy()\n",
    "plot_heatmap_block(detached_block_results, labels) #3，12，34\n"
   ]
  },
  {
   "cell_type": "code",
   "execution_count": 18,
   "metadata": {},
   "outputs": [
    {
     "name": "stdout",
     "output_type": "stream",
     "text": [
      "Patching: attn_heads\n"
     ]
    },
    {
     "name": "stderr",
     "output_type": "stream",
     "text": [
      "100%|██████████| 12/12 [00:27<00:00,  2.29s/it]"
     ]
    },
    {
     "name": "stdout",
     "output_type": "stream",
     "text": [
      "(12, 12)\n"
     ]
    },
    {
     "name": "stderr",
     "output_type": "stream",
     "text": [
      "\n"
     ]
    },
    {
     "data": {
      "image/png": "[encoded data removed]",
      "text/plain": [
       "<Figure size 800x600 with 2 Axes>"
      ]
     },
     "metadata": {},
     "output_type": "display_data"
    }
   ],
   "source": [
    "\n",
    "# Activation patching - by attention head over all token positions\n",
    "act_patch_attn_head_out_all_pos = get_act_patch_attn_head_out_all_pos(\n",
    "    tl_model,\n",
    "    device,\n",
    "    tokenized_pair_baseline,\n",
    "    perturbed_cache,\n",
    "    ranking_metric,\n",
    "    pooler_layer,\n",
    "    dropout_layer,\n",
    "    classifier_layer\n",
    ")\n",
    "detached_head_results = act_patch_attn_head_out_all_pos.detach().cpu().numpy()\n",
    "plot_heatmap_attention(detached_head_results, labels)\n",
    "\n",
    "\n"
   ]
  },
  {
   "cell_type": "markdown",
   "metadata": {},
   "source": [
    "Example Demo for Path-Patching"
   ]
  },
  {
   "cell_type": "code",
   "execution_count": null,
   "metadata": {},
   "outputs": [
    {
     "name": "stdout",
     "output_type": "stream",
     "text": [
      "<function get_path_patch_head_to_final_resid_post.<locals>.<lambda> at 0x3ba5c0940>\n"
     ]
    },
    {
     "name": "stderr",
     "output_type": "stream",
     "text": [
      "100%|██████████| 144/144 [00:27<00:00,  5.26it/s]\n"
     ]
    },
    {
     "name": "stdout",
     "output_type": "stream",
     "text": [
      "<function get_path_patch_head_to_heads.<locals>.<lambda> at 0x3ba5c01f0>\n"
     ]
    },
    {
     "name": "stderr",
     "output_type": "stream",
     "text": [
      "  0%|          | 0/120 [00:00<?, ?it/s]"
     ]
    },
    {
     "name": "stdout",
     "output_type": "stream",
     "text": [
      "tensor([[-5.6513]], device='mps:0')\n"
     ]
    },
    {
     "name": "stderr",
     "output_type": "stream",
     "text": [
      "  1%|          | 1/120 [00:00<00:47,  2.52it/s]"
     ]
    },
    {
     "name": "stdout",
     "output_type": "stream",
     "text": [
      "tensor([[-5.6514]], device='mps:0')\n",
      "tensor([[-5.6513]], device='mps:0')\n"
     ]
    },
    {
     "name": "stderr",
     "output_type": "stream",
     "text": [
      "  2%|▏         | 2/120 [00:00<00:45,  2.58it/s]"
     ]
    },
    {
     "name": "stdout",
     "output_type": "stream",
     "text": [
      "tensor([[-5.6517]], device='mps:0')\n",
      "tensor([[-5.6513]], device='mps:0')\n"
     ]
    },
    {
     "name": "stderr",
     "output_type": "stream",
     "text": [
      "  2%|▎         | 3/120 [00:01<00:45,  2.59it/s]"
     ]
    },
    {
     "name": "stdout",
     "output_type": "stream",
     "text": [
      "tensor([[-5.6513]], device='mps:0')\n",
      "tensor([[-5.6513]], device='mps:0')\n"
     ]
    },
    {
     "name": "stderr",
     "output_type": "stream",
     "text": [
      "  3%|▎         | 4/120 [00:01<00:44,  2.61it/s]"
     ]
    },
    {
     "name": "stdout",
     "output_type": "stream",
     "text": [
      "tensor([[-5.6513]], device='mps:0')\n",
      "tensor([[-5.6513]], device='mps:0')\n"
     ]
    },
    {
     "name": "stderr",
     "output_type": "stream",
     "text": [
      "  4%|▍         | 5/120 [00:01<00:43,  2.63it/s]"
     ]
    },
    {
     "name": "stdout",
     "output_type": "stream",
     "text": [
      "tensor([[-5.6513]], device='mps:0')\n",
      "tensor([[-5.6513]], device='mps:0')\n"
     ]
    },
    {
     "name": "stderr",
     "output_type": "stream",
     "text": [
      "  5%|▌         | 6/120 [00:02<00:43,  2.63it/s]"
     ]
    },
    {
     "name": "stdout",
     "output_type": "stream",
     "text": [
      "tensor([[-5.6513]], device='mps:0')\n",
      "tensor([[-5.6513]], device='mps:0')\n"
     ]
    },
    {
     "name": "stderr",
     "output_type": "stream",
     "text": [
      "  6%|▌         | 7/120 [00:02<00:42,  2.64it/s]"
     ]
    },
    {
     "name": "stdout",
     "output_type": "stream",
     "text": [
      "tensor([[-5.6511]], device='mps:0')\n",
      "tensor([[-5.6513]], device='mps:0')\n"
     ]
    },
    {
     "name": "stderr",
     "output_type": "stream",
     "text": [
      "  7%|▋         | 8/120 [00:03<00:42,  2.65it/s]"
     ]
    },
    {
     "name": "stdout",
     "output_type": "stream",
     "text": [
      "tensor([[-5.6506]], device='mps:0')\n",
      "tensor([[-5.6513]], device='mps:0')\n"
     ]
    },
    {
     "name": "stderr",
     "output_type": "stream",
     "text": [
      "  8%|▊         | 9/120 [00:03<00:42,  2.64it/s]"
     ]
    },
    {
     "name": "stdout",
     "output_type": "stream",
     "text": [
      "tensor([[-5.6563]], device='mps:0')\n",
      "tensor([[-5.6513]], device='mps:0')\n"
     ]
    },
    {
     "name": "stderr",
     "output_type": "stream",
     "text": [
      "  8%|▊         | 10/120 [00:03<00:41,  2.64it/s]"
     ]
    },
    {
     "name": "stdout",
     "output_type": "stream",
     "text": [
      "tensor([[-5.6513]], device='mps:0')\n",
      "tensor([[-5.6513]], device='mps:0')\n"
     ]
    },
    {
     "name": "stderr",
     "output_type": "stream",
     "text": [
      "  9%|▉         | 11/120 [00:04<00:41,  2.65it/s]"
     ]
    },
    {
     "name": "stdout",
     "output_type": "stream",
     "text": [
      "tensor([[-5.6515]], device='mps:0')\n",
      "tensor([[-5.6513]], device='mps:0')\n"
     ]
    },
    {
     "name": "stderr",
     "output_type": "stream",
     "text": [
      " 10%|█         | 12/120 [00:04<00:40,  2.64it/s]"
     ]
    },
    {
     "name": "stdout",
     "output_type": "stream",
     "text": [
      "tensor([[-5.6508]], device='mps:0')\n",
      "tensor([[-5.6513]], device='mps:0')\n"
     ]
    },
    {
     "name": "stderr",
     "output_type": "stream",
     "text": [
      " 11%|█         | 13/120 [00:04<00:40,  2.63it/s]"
     ]
    },
    {
     "name": "stdout",
     "output_type": "stream",
     "text": [
      "tensor([[-5.6516]], device='mps:0')\n",
      "tensor([[-5.6513]], device='mps:0')\n"
     ]
    },
    {
     "name": "stderr",
     "output_type": "stream",
     "text": [
      " 12%|█▏        | 14/120 [00:05<00:40,  2.64it/s]"
     ]
    },
    {
     "name": "stdout",
     "output_type": "stream",
     "text": [
      "tensor([[-5.6518]], device='mps:0')\n",
      "tensor([[-5.6513]], device='mps:0')\n"
     ]
    },
    {
     "name": "stderr",
     "output_type": "stream",
     "text": [
      " 12%|█▎        | 15/120 [00:05<00:39,  2.63it/s]"
     ]
    },
    {
     "name": "stdout",
     "output_type": "stream",
     "text": [
      "tensor([[-5.6527]], device='mps:0')\n",
      "tensor([[-5.6513]], device='mps:0')\n"
     ]
    },
    {
     "name": "stderr",
     "output_type": "stream",
     "text": [
      " 13%|█▎        | 16/120 [00:06<00:39,  2.63it/s]"
     ]
    },
    {
     "name": "stdout",
     "output_type": "stream",
     "text": [
      "tensor([[-5.6514]], device='mps:0')\n",
      "tensor([[-5.6513]], device='mps:0')\n"
     ]
    },
    {
     "name": "stderr",
     "output_type": "stream",
     "text": [
      " 14%|█▍        | 17/120 [00:06<00:39,  2.63it/s]"
     ]
    },
    {
     "name": "stdout",
     "output_type": "stream",
     "text": [
      "tensor([[-5.6561]], device='mps:0')\n",
      "tensor([[-5.6513]], device='mps:0')\n"
     ]
    },
    {
     "name": "stderr",
     "output_type": "stream",
     "text": [
      " 15%|█▌        | 18/120 [00:06<00:38,  2.62it/s]"
     ]
    },
    {
     "name": "stdout",
     "output_type": "stream",
     "text": [
      "tensor([[-5.6514]], device='mps:0')\n",
      "tensor([[-5.6513]], device='mps:0')\n"
     ]
    },
    {
     "name": "stderr",
     "output_type": "stream",
     "text": [
      " 16%|█▌        | 19/120 [00:07<00:38,  2.63it/s]"
     ]
    },
    {
     "name": "stdout",
     "output_type": "stream",
     "text": [
      "tensor([[-5.6513]], device='mps:0')\n",
      "tensor([[-5.6513]], device='mps:0')\n"
     ]
    },
    {
     "name": "stderr",
     "output_type": "stream",
     "text": [
      " 17%|█▋        | 20/120 [00:07<00:37,  2.65it/s]"
     ]
    },
    {
     "name": "stdout",
     "output_type": "stream",
     "text": [
      "tensor([[-5.7493]], device='mps:0')\n",
      "tensor([[-5.6513]], device='mps:0')\n"
     ]
    },
    {
     "name": "stderr",
     "output_type": "stream",
     "text": [
      " 18%|█▊        | 21/120 [00:07<00:37,  2.65it/s]"
     ]
    },
    {
     "name": "stdout",
     "output_type": "stream",
     "text": [
      "tensor([[-5.6510]], device='mps:0')\n",
      "tensor([[-5.6513]], device='mps:0')\n"
     ]
    },
    {
     "name": "stderr",
     "output_type": "stream",
     "text": [
      " 18%|█▊        | 22/120 [00:08<00:36,  2.67it/s]"
     ]
    },
    {
     "name": "stdout",
     "output_type": "stream",
     "text": [
      "tensor([[-5.6513]], device='mps:0')\n",
      "tensor([[-5.6513]], device='mps:0')\n"
     ]
    },
    {
     "name": "stderr",
     "output_type": "stream",
     "text": [
      " 19%|█▉        | 23/120 [00:08<00:36,  2.67it/s]"
     ]
    },
    {
     "name": "stdout",
     "output_type": "stream",
     "text": [
      "tensor([[-5.6520]], device='mps:0')\n",
      "tensor([[-5.6513]], device='mps:0')\n"
     ]
    },
    {
     "name": "stderr",
     "output_type": "stream",
     "text": [
      " 20%|██        | 24/120 [00:09<00:35,  2.67it/s]"
     ]
    },
    {
     "name": "stdout",
     "output_type": "stream",
     "text": [
      "tensor([[-5.6513]], device='mps:0')\n",
      "tensor([[-5.6513]], device='mps:0')\n"
     ]
    },
    {
     "name": "stderr",
     "output_type": "stream",
     "text": [
      " 21%|██        | 25/120 [00:09<00:35,  2.67it/s]"
     ]
    },
    {
     "name": "stdout",
     "output_type": "stream",
     "text": [
      "tensor([[-5.6513]], device='mps:0')\n",
      "tensor([[-5.6513]], device='mps:0')\n"
     ]
    },
    {
     "name": "stderr",
     "output_type": "stream",
     "text": [
      " 22%|██▏       | 26/120 [00:09<00:35,  2.67it/s]"
     ]
    },
    {
     "name": "stdout",
     "output_type": "stream",
     "text": [
      "tensor([[-5.6701]], device='mps:0')\n",
      "tensor([[-5.6513]], device='mps:0')\n"
     ]
    },
    {
     "name": "stderr",
     "output_type": "stream",
     "text": [
      " 22%|██▎       | 27/120 [00:10<00:34,  2.66it/s]"
     ]
    },
    {
     "name": "stdout",
     "output_type": "stream",
     "text": [
      "tensor([[-5.6516]], device='mps:0')\n",
      "tensor([[-5.6513]], device='mps:0')\n"
     ]
    },
    {
     "name": "stderr",
     "output_type": "stream",
     "text": [
      " 23%|██▎       | 28/120 [00:10<00:34,  2.67it/s]"
     ]
    },
    {
     "name": "stdout",
     "output_type": "stream",
     "text": [
      "tensor([[-5.6508]], device='mps:0')\n",
      "tensor([[-5.6513]], device='mps:0')\n"
     ]
    },
    {
     "name": "stderr",
     "output_type": "stream",
     "text": [
      " 24%|██▍       | 29/120 [00:10<00:34,  2.67it/s]"
     ]
    },
    {
     "name": "stdout",
     "output_type": "stream",
     "text": [
      "tensor([[-5.6512]], device='mps:0')\n",
      "tensor([[-5.6513]], device='mps:0')\n"
     ]
    },
    {
     "name": "stderr",
     "output_type": "stream",
     "text": [
      " 25%|██▌       | 30/120 [00:11<00:33,  2.68it/s]"
     ]
    },
    {
     "name": "stdout",
     "output_type": "stream",
     "text": [
      "tensor([[-5.6504]], device='mps:0')\n",
      "tensor([[-5.6513]], device='mps:0')\n"
     ]
    },
    {
     "name": "stderr",
     "output_type": "stream",
     "text": [
      " 26%|██▌       | 31/120 [00:11<00:33,  2.69it/s]"
     ]
    },
    {
     "name": "stdout",
     "output_type": "stream",
     "text": [
      "tensor([[-5.6513]], device='mps:0')\n",
      "tensor([[-5.6513]], device='mps:0')\n"
     ]
    },
    {
     "name": "stderr",
     "output_type": "stream",
     "text": [
      " 27%|██▋       | 32/120 [00:12<00:32,  2.69it/s]"
     ]
    },
    {
     "name": "stdout",
     "output_type": "stream",
     "text": [
      "tensor([[-5.6513]], device='mps:0')\n",
      "tensor([[-5.6513]], device='mps:0')\n"
     ]
    },
    {
     "name": "stderr",
     "output_type": "stream",
     "text": [
      " 28%|██▊       | 33/120 [00:12<00:32,  2.70it/s]"
     ]
    },
    {
     "name": "stdout",
     "output_type": "stream",
     "text": [
      "tensor([[-5.6512]], device='mps:0')\n",
      "tensor([[-5.6513]], device='mps:0')\n"
     ]
    },
    {
     "name": "stderr",
     "output_type": "stream",
     "text": [
      " 28%|██▊       | 34/120 [00:12<00:31,  2.70it/s]"
     ]
    },
    {
     "name": "stdout",
     "output_type": "stream",
     "text": [
      "tensor([[-5.6513]], device='mps:0')\n",
      "tensor([[-5.6513]], device='mps:0')\n"
     ]
    },
    {
     "name": "stderr",
     "output_type": "stream",
     "text": [
      " 29%|██▉       | 35/120 [00:13<00:31,  2.71it/s]"
     ]
    },
    {
     "name": "stdout",
     "output_type": "stream",
     "text": [
      "tensor([[-5.6524]], device='mps:0')\n",
      "tensor([[-5.6513]], device='mps:0')\n"
     ]
    },
    {
     "name": "stderr",
     "output_type": "stream",
     "text": [
      " 30%|███       | 36/120 [00:13<00:31,  2.70it/s]"
     ]
    },
    {
     "name": "stdout",
     "output_type": "stream",
     "text": [
      "tensor([[-5.6513]], device='mps:0')\n",
      "tensor([[-5.6513]], device='mps:0')\n"
     ]
    },
    {
     "name": "stderr",
     "output_type": "stream",
     "text": [
      " 31%|███       | 37/120 [00:13<00:30,  2.70it/s]"
     ]
    },
    {
     "name": "stdout",
     "output_type": "stream",
     "text": [
      "tensor([[-5.6492]], device='mps:0')\n",
      "tensor([[-5.6513]], device='mps:0')\n"
     ]
    },
    {
     "name": "stderr",
     "output_type": "stream",
     "text": [
      " 32%|███▏      | 38/120 [00:14<00:30,  2.67it/s]"
     ]
    },
    {
     "name": "stdout",
     "output_type": "stream",
     "text": [
      "tensor([[-5.6544]], device='mps:0')\n",
      "tensor([[-5.6513]], device='mps:0')\n"
     ]
    },
    {
     "name": "stderr",
     "output_type": "stream",
     "text": [
      " 32%|███▎      | 39/120 [00:14<00:30,  2.68it/s]"
     ]
    },
    {
     "name": "stdout",
     "output_type": "stream",
     "text": [
      "tensor([[-5.6513]], device='mps:0')\n",
      "tensor([[-5.6513]], device='mps:0')\n"
     ]
    },
    {
     "name": "stderr",
     "output_type": "stream",
     "text": [
      " 33%|███▎      | 40/120 [00:15<00:29,  2.68it/s]"
     ]
    },
    {
     "name": "stdout",
     "output_type": "stream",
     "text": [
      "tensor([[-5.6513]], device='mps:0')\n",
      "tensor([[-5.6513]], device='mps:0')\n"
     ]
    },
    {
     "name": "stderr",
     "output_type": "stream",
     "text": [
      " 34%|███▍      | 41/120 [00:15<00:29,  2.69it/s]"
     ]
    },
    {
     "name": "stdout",
     "output_type": "stream",
     "text": [
      "tensor([[-5.6496]], device='mps:0')\n",
      "tensor([[-5.6513]], device='mps:0')\n"
     ]
    },
    {
     "name": "stderr",
     "output_type": "stream",
     "text": [
      " 35%|███▌      | 42/120 [00:15<00:29,  2.69it/s]"
     ]
    },
    {
     "name": "stdout",
     "output_type": "stream",
     "text": [
      "tensor([[-5.6520]], device='mps:0')\n",
      "tensor([[-5.6513]], device='mps:0')\n"
     ]
    },
    {
     "name": "stderr",
     "output_type": "stream",
     "text": [
      " 36%|███▌      | 43/120 [00:16<00:28,  2.68it/s]"
     ]
    },
    {
     "name": "stdout",
     "output_type": "stream",
     "text": [
      "tensor([[-5.6507]], device='mps:0')\n",
      "tensor([[-5.6513]], device='mps:0')\n"
     ]
    },
    {
     "name": "stderr",
     "output_type": "stream",
     "text": [
      " 37%|███▋      | 44/120 [00:16<00:28,  2.68it/s]"
     ]
    },
    {
     "name": "stdout",
     "output_type": "stream",
     "text": [
      "tensor([[-5.6513]], device='mps:0')\n",
      "tensor([[-5.6513]], device='mps:0')\n"
     ]
    },
    {
     "name": "stderr",
     "output_type": "stream",
     "text": [
      " 38%|███▊      | 45/120 [00:16<00:28,  2.68it/s]"
     ]
    },
    {
     "name": "stdout",
     "output_type": "stream",
     "text": [
      "tensor([[-5.6499]], device='mps:0')\n",
      "tensor([[-5.6513]], device='mps:0')\n"
     ]
    },
    {
     "name": "stderr",
     "output_type": "stream",
     "text": [
      " 38%|███▊      | 46/120 [00:17<00:27,  2.68it/s]"
     ]
    },
    {
     "name": "stdout",
     "output_type": "stream",
     "text": [
      "tensor([[-5.6512]], device='mps:0')\n",
      "tensor([[-5.6513]], device='mps:0')\n"
     ]
    },
    {
     "name": "stderr",
     "output_type": "stream",
     "text": [
      " 39%|███▉      | 47/120 [00:17<00:27,  2.68it/s]"
     ]
    },
    {
     "name": "stdout",
     "output_type": "stream",
     "text": [
      "tensor([[-5.6512]], device='mps:0')\n",
      "tensor([[-5.6513]], device='mps:0')\n"
     ]
    },
    {
     "name": "stderr",
     "output_type": "stream",
     "text": [
      " 40%|████      | 48/120 [00:18<00:26,  2.68it/s]"
     ]
    },
    {
     "name": "stdout",
     "output_type": "stream",
     "text": [
      "tensor([[-5.6498]], device='mps:0')\n",
      "tensor([[-5.6513]], device='mps:0')\n"
     ]
    },
    {
     "name": "stderr",
     "output_type": "stream",
     "text": [
      " 41%|████      | 49/120 [00:18<00:26,  2.66it/s]"
     ]
    },
    {
     "name": "stdout",
     "output_type": "stream",
     "text": [
      "tensor([[-5.6493]], device='mps:0')\n",
      "tensor([[-5.6513]], device='mps:0')\n"
     ]
    },
    {
     "name": "stderr",
     "output_type": "stream",
     "text": [
      " 42%|████▏     | 50/120 [00:18<00:26,  2.67it/s]"
     ]
    },
    {
     "name": "stdout",
     "output_type": "stream",
     "text": [
      "tensor([[-5.6520]], device='mps:0')\n",
      "tensor([[-5.6513]], device='mps:0')\n"
     ]
    },
    {
     "name": "stderr",
     "output_type": "stream",
     "text": [
      " 42%|████▎     | 51/120 [00:19<00:25,  2.66it/s]"
     ]
    },
    {
     "name": "stdout",
     "output_type": "stream",
     "text": [
      "tensor([[-5.6486]], device='mps:0')\n",
      "tensor([[-5.6513]], device='mps:0')\n"
     ]
    },
    {
     "name": "stderr",
     "output_type": "stream",
     "text": [
      " 43%|████▎     | 52/120 [00:19<00:25,  2.67it/s]"
     ]
    },
    {
     "name": "stdout",
     "output_type": "stream",
     "text": [
      "tensor([[-5.6483]], device='mps:0')\n",
      "tensor([[-5.6513]], device='mps:0')\n"
     ]
    },
    {
     "name": "stderr",
     "output_type": "stream",
     "text": [
      " 44%|████▍     | 53/120 [00:19<00:25,  2.67it/s]"
     ]
    },
    {
     "name": "stdout",
     "output_type": "stream",
     "text": [
      "tensor([[-5.6509]], device='mps:0')\n",
      "tensor([[-5.6514]], device='mps:0')\n"
     ]
    },
    {
     "name": "stderr",
     "output_type": "stream",
     "text": [
      " 45%|████▌     | 54/120 [00:20<00:24,  2.68it/s]"
     ]
    },
    {
     "name": "stdout",
     "output_type": "stream",
     "text": [
      "tensor([[-5.6519]], device='mps:0')\n",
      "tensor([[-5.6513]], device='mps:0')\n"
     ]
    },
    {
     "name": "stderr",
     "output_type": "stream",
     "text": [
      " 46%|████▌     | 55/120 [00:20<00:24,  2.69it/s]"
     ]
    },
    {
     "name": "stdout",
     "output_type": "stream",
     "text": [
      "tensor([[-5.6449]], device='mps:0')\n",
      "tensor([[-5.6513]], device='mps:0')\n"
     ]
    },
    {
     "name": "stderr",
     "output_type": "stream",
     "text": [
      " 47%|████▋     | 56/120 [00:21<00:23,  2.69it/s]"
     ]
    },
    {
     "name": "stdout",
     "output_type": "stream",
     "text": [
      "tensor([[-5.6499]], device='mps:0')\n",
      "tensor([[-5.6513]], device='mps:0')\n"
     ]
    },
    {
     "name": "stderr",
     "output_type": "stream",
     "text": [
      " 48%|████▊     | 57/120 [00:21<00:23,  2.69it/s]"
     ]
    },
    {
     "name": "stdout",
     "output_type": "stream",
     "text": [
      "tensor([[-5.6467]], device='mps:0')\n",
      "tensor([[-5.6513]], device='mps:0')\n"
     ]
    },
    {
     "name": "stderr",
     "output_type": "stream",
     "text": [
      " 48%|████▊     | 58/120 [00:21<00:22,  2.70it/s]"
     ]
    },
    {
     "name": "stdout",
     "output_type": "stream",
     "text": [
      "tensor([[-5.6641]], device='mps:0')\n",
      "tensor([[-5.6513]], device='mps:0')\n"
     ]
    },
    {
     "name": "stderr",
     "output_type": "stream",
     "text": [
      " 49%|████▉     | 59/120 [00:22<00:22,  2.68it/s]"
     ]
    },
    {
     "name": "stdout",
     "output_type": "stream",
     "text": [
      "tensor([[-5.6486]], device='mps:0')\n",
      "tensor([[-5.6513]], device='mps:0')\n"
     ]
    },
    {
     "name": "stderr",
     "output_type": "stream",
     "text": [
      " 50%|█████     | 60/120 [00:22<00:22,  2.69it/s]"
     ]
    },
    {
     "name": "stdout",
     "output_type": "stream",
     "text": [
      "tensor([[-5.6507]], device='mps:0')\n",
      "tensor([[-5.6515]], device='mps:0')\n"
     ]
    },
    {
     "name": "stderr",
     "output_type": "stream",
     "text": [
      " 51%|█████     | 61/120 [00:22<00:21,  2.69it/s]"
     ]
    },
    {
     "name": "stdout",
     "output_type": "stream",
     "text": [
      "tensor([[-5.6456]], device='mps:0')\n",
      "tensor([[-5.6514]], device='mps:0')\n"
     ]
    },
    {
     "name": "stderr",
     "output_type": "stream",
     "text": [
      " 52%|█████▏    | 62/120 [00:23<00:21,  2.69it/s]"
     ]
    },
    {
     "name": "stdout",
     "output_type": "stream",
     "text": [
      "tensor([[-5.6501]], device='mps:0')\n",
      "tensor([[-5.6525]], device='mps:0')\n"
     ]
    },
    {
     "name": "stderr",
     "output_type": "stream",
     "text": [
      " 52%|█████▎    | 63/120 [00:23<00:21,  2.69it/s]"
     ]
    },
    {
     "name": "stdout",
     "output_type": "stream",
     "text": [
      "tensor([[-5.6315]], device='mps:0')\n",
      "tensor([[-5.6514]], device='mps:0')\n"
     ]
    },
    {
     "name": "stderr",
     "output_type": "stream",
     "text": [
      " 53%|█████▎    | 64/120 [00:23<00:20,  2.70it/s]"
     ]
    },
    {
     "name": "stdout",
     "output_type": "stream",
     "text": [
      "tensor([[-5.6499]], device='mps:0')\n",
      "tensor([[-5.6515]], device='mps:0')\n"
     ]
    },
    {
     "name": "stderr",
     "output_type": "stream",
     "text": [
      " 54%|█████▍    | 65/120 [00:24<00:20,  2.70it/s]"
     ]
    },
    {
     "name": "stdout",
     "output_type": "stream",
     "text": [
      "tensor([[-5.6486]], device='mps:0')\n",
      "tensor([[-5.6513]], device='mps:0')\n"
     ]
    },
    {
     "name": "stderr",
     "output_type": "stream",
     "text": [
      " 55%|█████▌    | 66/120 [00:24<00:19,  2.70it/s]"
     ]
    },
    {
     "name": "stdout",
     "output_type": "stream",
     "text": [
      "tensor([[-5.6514]], device='mps:0')\n",
      "tensor([[-5.6515]], device='mps:0')\n"
     ]
    },
    {
     "name": "stderr",
     "output_type": "stream",
     "text": [
      " 56%|█████▌    | 67/120 [00:25<00:19,  2.71it/s]"
     ]
    },
    {
     "name": "stdout",
     "output_type": "stream",
     "text": [
      "tensor([[-5.6523]], device='mps:0')\n",
      "tensor([[-5.6515]], device='mps:0')\n"
     ]
    },
    {
     "name": "stderr",
     "output_type": "stream",
     "text": [
      " 57%|█████▋    | 68/120 [00:25<00:19,  2.71it/s]"
     ]
    },
    {
     "name": "stdout",
     "output_type": "stream",
     "text": [
      "tensor([[-5.6614]], device='mps:0')\n",
      "tensor([[-5.6519]], device='mps:0')\n"
     ]
    },
    {
     "name": "stderr",
     "output_type": "stream",
     "text": [
      " 57%|█████▊    | 69/120 [00:25<00:18,  2.70it/s]"
     ]
    },
    {
     "name": "stdout",
     "output_type": "stream",
     "text": [
      "tensor([[-5.6510]], device='mps:0')\n",
      "tensor([[-5.6512]], device='mps:0')\n"
     ]
    },
    {
     "name": "stderr",
     "output_type": "stream",
     "text": [
      " 58%|█████▊    | 70/120 [00:26<00:18,  2.70it/s]"
     ]
    },
    {
     "name": "stdout",
     "output_type": "stream",
     "text": [
      "tensor([[-5.6563]], device='mps:0')\n",
      "tensor([[-5.6519]], device='mps:0')\n"
     ]
    },
    {
     "name": "stderr",
     "output_type": "stream",
     "text": [
      " 59%|█████▉    | 71/120 [00:26<00:18,  2.71it/s]"
     ]
    },
    {
     "name": "stdout",
     "output_type": "stream",
     "text": [
      "tensor([[-5.6505]], device='mps:0')\n",
      "tensor([[-5.6522]], device='mps:0')\n"
     ]
    },
    {
     "name": "stderr",
     "output_type": "stream",
     "text": [
      " 60%|██████    | 72/120 [00:26<00:17,  2.70it/s]"
     ]
    },
    {
     "name": "stdout",
     "output_type": "stream",
     "text": [
      "tensor([[-5.6488]], device='mps:0')\n",
      "tensor([[-5.6501]], device='mps:0')\n"
     ]
    },
    {
     "name": "stderr",
     "output_type": "stream",
     "text": [
      " 61%|██████    | 73/120 [00:27<00:17,  2.72it/s]"
     ]
    },
    {
     "name": "stdout",
     "output_type": "stream",
     "text": [
      "tensor([[-5.6494]], device='mps:0')\n",
      "tensor([[-5.6532]], device='mps:0')\n"
     ]
    },
    {
     "name": "stderr",
     "output_type": "stream",
     "text": [
      " 62%|██████▏   | 74/120 [00:27<00:17,  2.70it/s]"
     ]
    },
    {
     "name": "stdout",
     "output_type": "stream",
     "text": [
      "tensor([[-5.6521]], device='mps:0')\n",
      "tensor([[-5.6509]], device='mps:0')\n"
     ]
    },
    {
     "name": "stderr",
     "output_type": "stream",
     "text": [
      " 62%|██████▎   | 75/120 [00:28<00:16,  2.71it/s]"
     ]
    },
    {
     "name": "stdout",
     "output_type": "stream",
     "text": [
      "tensor([[-5.6422]], device='mps:0')\n",
      "tensor([[-5.6591]], device='mps:0')\n"
     ]
    },
    {
     "name": "stderr",
     "output_type": "stream",
     "text": [
      " 63%|██████▎   | 76/120 [00:28<00:16,  2.70it/s]"
     ]
    },
    {
     "name": "stdout",
     "output_type": "stream",
     "text": [
      "tensor([[-5.6576]], device='mps:0')\n",
      "tensor([[-5.6486]], device='mps:0')\n"
     ]
    },
    {
     "name": "stderr",
     "output_type": "stream",
     "text": [
      " 64%|██████▍   | 77/120 [00:28<00:15,  2.70it/s]"
     ]
    },
    {
     "name": "stdout",
     "output_type": "stream",
     "text": [
      "tensor([[-5.6522]], device='mps:0')\n",
      "tensor([[-5.6532]], device='mps:0')\n"
     ]
    },
    {
     "name": "stderr",
     "output_type": "stream",
     "text": [
      " 65%|██████▌   | 78/120 [00:29<00:15,  2.70it/s]"
     ]
    },
    {
     "name": "stdout",
     "output_type": "stream",
     "text": [
      "tensor([[-5.6748]], device='mps:0')\n",
      "tensor([[-5.6481]], device='mps:0')\n"
     ]
    },
    {
     "name": "stderr",
     "output_type": "stream",
     "text": [
      " 66%|██████▌   | 79/120 [00:29<00:15,  2.70it/s]"
     ]
    },
    {
     "name": "stdout",
     "output_type": "stream",
     "text": [
      "tensor([[-5.6487]], device='mps:0')\n",
      "tensor([[-5.6575]], device='mps:0')\n"
     ]
    },
    {
     "name": "stderr",
     "output_type": "stream",
     "text": [
      " 67%|██████▋   | 80/120 [00:29<00:14,  2.71it/s]"
     ]
    },
    {
     "name": "stdout",
     "output_type": "stream",
     "text": [
      "tensor([[-5.6404]], device='mps:0')\n",
      "tensor([[-5.6512]], device='mps:0')\n"
     ]
    },
    {
     "name": "stderr",
     "output_type": "stream",
     "text": [
      " 68%|██████▊   | 81/120 [00:30<00:14,  2.71it/s]"
     ]
    },
    {
     "name": "stdout",
     "output_type": "stream",
     "text": [
      "tensor([[-5.6481]], device='mps:0')\n",
      "tensor([[-5.6538]], device='mps:0')\n"
     ]
    },
    {
     "name": "stderr",
     "output_type": "stream",
     "text": [
      " 68%|██████▊   | 82/120 [00:30<00:14,  2.71it/s]"
     ]
    },
    {
     "name": "stdout",
     "output_type": "stream",
     "text": [
      "tensor([[-5.6453]], device='mps:0')\n",
      "tensor([[-5.6503]], device='mps:0')\n"
     ]
    },
    {
     "name": "stderr",
     "output_type": "stream",
     "text": [
      " 69%|██████▉   | 83/120 [00:31<00:13,  2.72it/s]"
     ]
    },
    {
     "name": "stdout",
     "output_type": "stream",
     "text": [
      "tensor([[-5.6410]], device='mps:0')\n",
      "tensor([[-5.6369]], device='mps:0')\n"
     ]
    },
    {
     "name": "stderr",
     "output_type": "stream",
     "text": [
      " 70%|███████   | 84/120 [00:31<00:13,  2.72it/s]"
     ]
    },
    {
     "name": "stdout",
     "output_type": "stream",
     "text": [
      "tensor([[-5.6496]], device='mps:0')\n",
      "tensor([[-5.6545]], device='mps:0')\n"
     ]
    },
    {
     "name": "stderr",
     "output_type": "stream",
     "text": [
      " 71%|███████   | 85/120 [00:31<00:12,  2.71it/s]"
     ]
    },
    {
     "name": "stdout",
     "output_type": "stream",
     "text": [
      "tensor([[-5.6111]], device='mps:0')\n",
      "tensor([[-5.6457]], device='mps:0')\n"
     ]
    },
    {
     "name": "stderr",
     "output_type": "stream",
     "text": [
      " 72%|███████▏  | 86/120 [00:32<00:12,  2.70it/s]"
     ]
    },
    {
     "name": "stdout",
     "output_type": "stream",
     "text": [
      "tensor([[-5.6639]], device='mps:0')\n",
      "tensor([[-5.6466]], device='mps:0')\n"
     ]
    },
    {
     "name": "stderr",
     "output_type": "stream",
     "text": [
      " 72%|███████▎  | 87/120 [00:32<00:12,  2.68it/s]"
     ]
    },
    {
     "name": "stdout",
     "output_type": "stream",
     "text": [
      "tensor([[-5.6457]], device='mps:0')\n",
      "tensor([[-5.6528]], device='mps:0')\n"
     ]
    },
    {
     "name": "stderr",
     "output_type": "stream",
     "text": [
      " 73%|███████▎  | 88/120 [00:32<00:11,  2.68it/s]"
     ]
    },
    {
     "name": "stdout",
     "output_type": "stream",
     "text": [
      "tensor([[-5.6523]], device='mps:0')\n",
      "tensor([[-5.6408]], device='mps:0')\n"
     ]
    },
    {
     "name": "stderr",
     "output_type": "stream",
     "text": [
      " 74%|███████▍  | 89/120 [00:33<00:11,  2.70it/s]"
     ]
    },
    {
     "name": "stdout",
     "output_type": "stream",
     "text": [
      "tensor([[-5.6449]], device='mps:0')\n",
      "tensor([[-5.6567]], device='mps:0')\n"
     ]
    },
    {
     "name": "stderr",
     "output_type": "stream",
     "text": [
      " 75%|███████▌  | 90/120 [00:33<00:11,  2.69it/s]"
     ]
    },
    {
     "name": "stdout",
     "output_type": "stream",
     "text": [
      "tensor([[-5.6485]], device='mps:0')\n",
      "tensor([[-5.6517]], device='mps:0')\n"
     ]
    },
    {
     "name": "stderr",
     "output_type": "stream",
     "text": [
      " 76%|███████▌  | 91/120 [00:33<00:10,  2.68it/s]"
     ]
    },
    {
     "name": "stdout",
     "output_type": "stream",
     "text": [
      "tensor([[-5.6545]], device='mps:0')\n",
      "tensor([[-5.6497]], device='mps:0')\n"
     ]
    },
    {
     "name": "stderr",
     "output_type": "stream",
     "text": [
      " 77%|███████▋  | 92/120 [00:34<00:10,  2.68it/s]"
     ]
    },
    {
     "name": "stdout",
     "output_type": "stream",
     "text": [
      "tensor([[-5.6548]], device='mps:0')\n",
      "tensor([[-5.6415]], device='mps:0')\n"
     ]
    },
    {
     "name": "stderr",
     "output_type": "stream",
     "text": [
      " 78%|███████▊  | 93/120 [00:34<00:10,  2.69it/s]"
     ]
    },
    {
     "name": "stdout",
     "output_type": "stream",
     "text": [
      "tensor([[-5.6518]], device='mps:0')\n",
      "tensor([[-5.6109]], device='mps:0')\n"
     ]
    },
    {
     "name": "stderr",
     "output_type": "stream",
     "text": [
      " 78%|███████▊  | 94/120 [00:35<00:09,  2.69it/s]"
     ]
    },
    {
     "name": "stdout",
     "output_type": "stream",
     "text": [
      "tensor([[-5.7678]], device='mps:0')\n",
      "tensor([[-5.6502]], device='mps:0')\n"
     ]
    },
    {
     "name": "stderr",
     "output_type": "stream",
     "text": [
      " 79%|███████▉  | 95/120 [00:35<00:09,  2.69it/s]"
     ]
    },
    {
     "name": "stdout",
     "output_type": "stream",
     "text": [
      "tensor([[-5.6550]], device='mps:0')\n",
      "tensor([[-5.6464]], device='mps:0')\n"
     ]
    },
    {
     "name": "stderr",
     "output_type": "stream",
     "text": [
      " 80%|████████  | 96/120 [00:35<00:08,  2.69it/s]"
     ]
    },
    {
     "name": "stdout",
     "output_type": "stream",
     "text": [
      "tensor([[-5.6421]], device='mps:0')\n",
      "tensor([[-5.5140]], device='mps:0')\n"
     ]
    },
    {
     "name": "stderr",
     "output_type": "stream",
     "text": [
      " 81%|████████  | 97/120 [00:36<00:08,  2.69it/s]"
     ]
    },
    {
     "name": "stdout",
     "output_type": "stream",
     "text": [
      "tensor([[-5.6388]], device='mps:0')\n",
      "tensor([[-5.6189]], device='mps:0')\n"
     ]
    },
    {
     "name": "stderr",
     "output_type": "stream",
     "text": [
      " 82%|████████▏ | 98/120 [00:36<00:08,  2.69it/s]"
     ]
    },
    {
     "name": "stdout",
     "output_type": "stream",
     "text": [
      "tensor([[-5.6511]], device='mps:0')\n",
      "tensor([[-5.6316]], device='mps:0')\n"
     ]
    },
    {
     "name": "stderr",
     "output_type": "stream",
     "text": [
      " 82%|████████▎ | 99/120 [00:36<00:07,  2.70it/s]"
     ]
    },
    {
     "name": "stdout",
     "output_type": "stream",
     "text": [
      "tensor([[-5.6485]], device='mps:0')\n",
      "tensor([[-5.6418]], device='mps:0')\n"
     ]
    },
    {
     "name": "stderr",
     "output_type": "stream",
     "text": [
      " 83%|████████▎ | 100/120 [00:37<00:07,  2.70it/s]"
     ]
    },
    {
     "name": "stdout",
     "output_type": "stream",
     "text": [
      "tensor([[-5.6497]], device='mps:0')\n",
      "tensor([[-5.6173]], device='mps:0')\n"
     ]
    },
    {
     "name": "stderr",
     "output_type": "stream",
     "text": [
      " 84%|████████▍ | 101/120 [00:37<00:07,  2.71it/s]"
     ]
    },
    {
     "name": "stdout",
     "output_type": "stream",
     "text": [
      "tensor([[-5.6526]], device='mps:0')\n",
      "tensor([[-5.5866]], device='mps:0')\n"
     ]
    },
    {
     "name": "stderr",
     "output_type": "stream",
     "text": [
      " 85%|████████▌ | 102/120 [00:38<00:06,  2.71it/s]"
     ]
    },
    {
     "name": "stdout",
     "output_type": "stream",
     "text": [
      "tensor([[-5.7109]], device='mps:0')\n",
      "tensor([[-5.5827]], device='mps:0')\n"
     ]
    },
    {
     "name": "stderr",
     "output_type": "stream",
     "text": [
      " 86%|████████▌ | 103/120 [00:38<00:06,  2.71it/s]"
     ]
    },
    {
     "name": "stdout",
     "output_type": "stream",
     "text": [
      "tensor([[-5.6460]], device='mps:0')\n",
      "tensor([[-5.5897]], device='mps:0')\n"
     ]
    },
    {
     "name": "stderr",
     "output_type": "stream",
     "text": [
      " 87%|████████▋ | 104/120 [00:38<00:05,  2.70it/s]"
     ]
    },
    {
     "name": "stdout",
     "output_type": "stream",
     "text": [
      "tensor([[-5.6253]], device='mps:0')\n",
      "tensor([[-5.4176]], device='mps:0')\n"
     ]
    },
    {
     "name": "stderr",
     "output_type": "stream",
     "text": [
      " 88%|████████▊ | 105/120 [00:39<00:05,  2.71it/s]"
     ]
    },
    {
     "name": "stdout",
     "output_type": "stream",
     "text": [
      "tensor([[-5.6635]], device='mps:0')\n",
      "tensor([[-5.6142]], device='mps:0')\n"
     ]
    },
    {
     "name": "stderr",
     "output_type": "stream",
     "text": [
      " 88%|████████▊ | 106/120 [00:39<00:05,  2.71it/s]"
     ]
    },
    {
     "name": "stdout",
     "output_type": "stream",
     "text": [
      "tensor([[-5.6274]], device='mps:0')\n",
      "tensor([[-5.6653]], device='mps:0')\n"
     ]
    },
    {
     "name": "stderr",
     "output_type": "stream",
     "text": [
      " 89%|████████▉ | 107/120 [00:39<00:04,  2.69it/s]"
     ]
    },
    {
     "name": "stdout",
     "output_type": "stream",
     "text": [
      "tensor([[-5.6388]], device='mps:0')\n",
      "tensor([[-5.6514]], device='mps:0')\n"
     ]
    },
    {
     "name": "stderr",
     "output_type": "stream",
     "text": [
      " 90%|█████████ | 108/120 [00:40<00:04,  2.72it/s]"
     ]
    },
    {
     "name": "stdout",
     "output_type": "stream",
     "text": [
      "tensor([[-5.6343]], device='mps:0')\n",
      "tensor([[-5.4151]], device='mps:0')\n"
     ]
    },
    {
     "name": "stderr",
     "output_type": "stream",
     "text": [
      " 91%|█████████ | 109/120 [00:40<00:04,  2.71it/s]"
     ]
    },
    {
     "name": "stdout",
     "output_type": "stream",
     "text": [
      "tensor([[-5.6691]], device='mps:0')\n",
      "tensor([[-5.5877]], device='mps:0')\n"
     ]
    },
    {
     "name": "stderr",
     "output_type": "stream",
     "text": [
      " 92%|█████████▏| 110/120 [00:41<00:03,  2.70it/s]"
     ]
    },
    {
     "name": "stdout",
     "output_type": "stream",
     "text": [
      "tensor([[-5.6669]], device='mps:0')\n",
      "tensor([[-5.5253]], device='mps:0')\n"
     ]
    },
    {
     "name": "stderr",
     "output_type": "stream",
     "text": [
      " 92%|█████████▎| 111/120 [00:41<00:03,  2.69it/s]"
     ]
    },
    {
     "name": "stdout",
     "output_type": "stream",
     "text": [
      "tensor([[-5.6352]], device='mps:0')\n",
      "tensor([[-5.5996]], device='mps:0')\n"
     ]
    },
    {
     "name": "stderr",
     "output_type": "stream",
     "text": [
      " 93%|█████████▎| 112/120 [00:41<00:02,  2.69it/s]"
     ]
    },
    {
     "name": "stdout",
     "output_type": "stream",
     "text": [
      "tensor([[-5.6799]], device='mps:0')\n",
      "tensor([[-5.3700]], device='mps:0')\n"
     ]
    },
    {
     "name": "stderr",
     "output_type": "stream",
     "text": [
      " 94%|█████████▍| 113/120 [00:42<00:02,  2.67it/s]"
     ]
    },
    {
     "name": "stdout",
     "output_type": "stream",
     "text": [
      "tensor([[-5.6939]], device='mps:0')\n",
      "tensor([[-5.5784]], device='mps:0')\n"
     ]
    },
    {
     "name": "stderr",
     "output_type": "stream",
     "text": [
      " 95%|█████████▌| 114/120 [00:42<00:02,  2.69it/s]"
     ]
    },
    {
     "name": "stdout",
     "output_type": "stream",
     "text": [
      "tensor([[-5.6549]], device='mps:0')\n",
      "tensor([[-5.6278]], device='mps:0')\n"
     ]
    },
    {
     "name": "stderr",
     "output_type": "stream",
     "text": [
      " 96%|█████████▌| 115/120 [00:42<00:01,  2.69it/s]"
     ]
    },
    {
     "name": "stdout",
     "output_type": "stream",
     "text": [
      "tensor([[-5.6588]], device='mps:0')\n",
      "tensor([[-5.5823]], device='mps:0')\n"
     ]
    },
    {
     "name": "stderr",
     "output_type": "stream",
     "text": [
      " 97%|█████████▋| 116/120 [00:43<00:01,  2.69it/s]"
     ]
    },
    {
     "name": "stdout",
     "output_type": "stream",
     "text": [
      "tensor([[-5.6723]], device='mps:0')\n",
      "tensor([[-5.6002]], device='mps:0')\n"
     ]
    },
    {
     "name": "stderr",
     "output_type": "stream",
     "text": [
      " 98%|█████████▊| 117/120 [00:43<00:01,  2.70it/s]"
     ]
    },
    {
     "name": "stdout",
     "output_type": "stream",
     "text": [
      "tensor([[-5.6612]], device='mps:0')\n",
      "tensor([[-5.6240]], device='mps:0')\n"
     ]
    },
    {
     "name": "stderr",
     "output_type": "stream",
     "text": [
      " 98%|█████████▊| 118/120 [00:44<00:00,  2.68it/s]"
     ]
    },
    {
     "name": "stdout",
     "output_type": "stream",
     "text": [
      "tensor([[-5.6610]], device='mps:0')\n",
      "tensor([[-5.6072]], device='mps:0')\n"
     ]
    },
    {
     "name": "stderr",
     "output_type": "stream",
     "text": [
      " 99%|█████████▉| 119/120 [00:44<00:00,  2.68it/s]"
     ]
    },
    {
     "name": "stdout",
     "output_type": "stream",
     "text": [
      "tensor([[-5.6462]], device='mps:0')\n",
      "tensor([[-5.6138]], device='mps:0')\n"
     ]
    },
    {
     "name": "stderr",
     "output_type": "stream",
     "text": [
      "100%|██████████| 120/120 [00:44<00:00,  2.68it/s]"
     ]
    },
    {
     "name": "stdout",
     "output_type": "stream",
     "text": [
      "tensor([[-5.7616]], device='mps:0')\n"
     ]
    },
    {
     "name": "stderr",
     "output_type": "stream",
     "text": [
      "\n"
     ]
    }
   ],
   "source": [
    "\n",
    "path_patch_head_to_final_resid_post = get_path_patch_head_to_final_resid_post(\n",
    "                                                tl_model, \n",
    "                                                device,\n",
    "                                                ranking_metric,\n",
    "                                                tokenized_pair_perturbed,\n",
    "                                                tokenized_pair_baseline,\n",
    "                                                perturbed_cache,\n",
    "                                                baseline_cache,\n",
    "                                                pooler_layer,\n",
    "                                                dropout_layer,\n",
    "                                                classifier_layer)\n",
    "path_patch_head_to_heads = get_path_patch_head_to_heads([(10,1)],#the specific head to path patch to\n",
    "                                                        'k',#: str, either k, q or v, patching to which vector\n",
    "                                                        tl_model,#: HookedTransformer,\n",
    "                                                        device,\n",
    "                                                        ranking_metric,\n",
    "                                                        tokenized_pair_perturbed,\n",
    "                                                        tokenized_pair_baseline,\n",
    "                                                        perturbed_cache,\n",
    "                                                        baseline_cache,\n",
    "                                                        pooler_layer,\n",
    "                                                        dropout_layer,\n",
    "                                                        classifier_layer\n",
    "                                                    )\n",
    "\n",
    "\n",
    "detached_path_patch_tofinal_results =path_patch_head_to_final_resid_post.detach().cpu().numpy()\n",
    "detached_path_patch_head_to_heads = path_patch_head_to_heads.detach().cpu().numpy()\n",
    "\n",
    "\n",
    "\n",
    "\n"
   ]
  },
  {
   "cell_type": "code",
   "execution_count": 21,
   "metadata": {},
   "outputs": [
    {
     "name": "stdout",
     "output_type": "stream",
     "text": [
      "(12, 12)\n",
      "(10, 12)\n"
     ]
    }
   ],
   "source": [
    "print(detached_path_patch_tofinal_results.shape)\n",
    "print(detached_path_patch_head_to_heads.shape)"
   ]
  },
  {
   "cell_type": "code",
   "execution_count": null,
   "metadata": {},
   "outputs": [
    {
     "data": {
      "image/png": "[encoded data removed]",
      "text/plain": [
       "<Figure size 1200x600 with 2 Axes>"
      ]
     },
     "metadata": {},
     "output_type": "display_data"
    },
    {
     "data": {
      "image/png": "[encoded data removed]",
      "text/plain": [
       "<Figure size 1200x600 with 2 Axes>"
      ]
     },
     "metadata": {},
     "output_type": "display_data"
    }
   ],
   "source": [
    "import matplotlib.pyplot as plt\n",
    "import seaborn as sns\n",
    "import numpy as np\n",
    "\n",
    "\n",
    "result1 = detached_path_patch_tofinal_results  # shape (12, 12)\n",
    "result2 = detached_path_patch_head_to_heads    # shape (10, 12)\n",
    "\n",
    "\n",
    "plt.figure(figsize=(12, 6))\n",
    "sns.heatmap(result1, cmap=\"viridis\", cbar_kws={'label': 'Score'})\n",
    "plt.title(\"Path Patch Scores from Head to Heads\")\n",
    "plt.xlabel(\"Head Index\")\n",
    "plt.ylabel(\"Token Position\")\n",
    "plt.show()\n",
    "\n",
    "# Plot 2: Heatmap for result2 (already 2D)\n",
    "plt.figure(figsize=(12, 6))\n",
    "sns.heatmap(result2, cmap=\"viridis\", cbar_kws={'label': 'Score'})\n",
    "plt.title(\"Path Patch Scores from Head to Heads\")\n",
    "plt.xlabel(\"Head Index\")\n",
    "plt.ylabel(\"Token Position\")\n",
    "plt.show()\n"
   ]
  },
  {
   "cell_type": "code",
   "execution_count": null,
   "metadata": {},
   "outputs": [],
   "source": []
  }
 ],
 "metadata": {
  "kernelspec": {
   "display_name": "tensor_env",
   "language": "python",
   "name": "python3"
  },
  "language_info": {
   "codemirror_mode": {
    "name": "ipython",
    "version": 3
   },
   "file_extension": ".py",
   "mimetype": "text/x-python",
   "name": "python",
   "nbconvert_exporter": "python",
   "pygments_lexer": "ipython3",
   "version": "3.10.12"
  }
 },
 "nbformat": 4,
 "nbformat_minor": 2
}
